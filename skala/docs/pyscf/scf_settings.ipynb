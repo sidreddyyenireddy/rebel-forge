{
 "cells": [
  {
   "cell_type": "markdown",
   "id": "a073a928",
   "metadata": {},
   "source": [
    "# Configuring SCF parameters\n",
    "When running a SCF calculation with PySCF, there are a number of parameters that are set to control, for example, the convergence criteria or other aspects of the computation (e.g diis, level_shift etc)."
   ]
  },
  {
   "cell_type": "code",
   "execution_count": 1,
   "id": "dd93a68a",
   "metadata": {},
   "outputs": [
    {
     "name": "stderr",
     "output_type": "stream",
     "text": [
      "/home/giulialuise/miniconda3/envs/skala/lib/python3.13/site-packages/tqdm/auto.py:21: TqdmWarning: IProgress not found. Please update jupyter and ipywidgets. See https://ipywidgets.readthedocs.io/en/stable/user_install.html\n",
      "  from .autonotebook import tqdm as notebook_tqdm\n"
     ]
    }
   ],
   "source": [
    "from pyscf import gto\n",
    "\n",
    "from skala.pyscf import SkalaKS"
   ]
  },
  {
   "cell_type": "markdown",
   "id": "af2bb2e9",
   "metadata": {},
   "source": [
    "We create a molecule to use in the SCF calculation:"
   ]
  },
  {
   "cell_type": "code",
   "execution_count": 2,
   "id": "ed3a3d47",
   "metadata": {},
   "outputs": [],
   "source": [
    "mol = gto.M(\n",
    "    atom=\"\"\"H 0 0 0; H 0 0 1.4\"\"\",\n",
    "    basis=\"def2-tzvp\",\n",
    ")"
   ]
  },
  {
   "cell_type": "markdown",
   "id": "2a6089ff",
   "metadata": {},
   "source": [
    "As seen in the [Using the Skala functional in PySCF](./singlepoint.ipynb) example notebook, this is how we run a calculation using Skala functional."
   ]
  },
  {
   "cell_type": "code",
   "execution_count": 3,
   "id": "a07500d7",
   "metadata": {},
   "outputs": [
    {
     "name": "stdout",
     "output_type": "stream",
     "text": [
      "converged SCF energy = -1.07091605172654\n",
      "**** SCF Summaries ****\n",
      "Total Energy =                          -1.070916051726540\n",
      "Nuclear Repulsion Energy =               0.377654773327513\n",
      "One-electron Energy =                   -1.897310624972360\n",
      "Two-electron Coulomb Energy =            0.997543909702505\n",
      "DFT Exchange-Correlation Energy =       -0.548804109784197\n",
      "Empirical Dispersion Energy =           -0.000328948758201\n"
     ]
    }
   ],
   "source": [
    "ks = SkalaKS(mol, xc=\"skala\")\n",
    "ks.kernel()\n",
    "\n",
    "ks.dump_scf_summary()"
   ]
  },
  {
   "cell_type": "markdown",
   "id": "15cebdb1",
   "metadata": {},
   "source": [
    "We can check the convergence tolerance as follows:"
   ]
  },
  {
   "cell_type": "code",
   "execution_count": 4,
   "id": "bce2aea4",
   "metadata": {},
   "outputs": [
    {
     "name": "stdout",
     "output_type": "stream",
     "text": [
      "1e-09\n",
      "None\n"
     ]
    }
   ],
   "source": [
    "print(ks.conv_tol)\n",
    "print(ks.conv_tol_grad)"
   ]
  },
  {
   "cell_type": "markdown",
   "id": "b1a71643",
   "metadata": {},
   "source": [
    "This is how you can modify such settings (and a few more) in order to use the same ones as in our paper."
   ]
  },
  {
   "cell_type": "code",
   "execution_count": 5,
   "id": "471f29ee",
   "metadata": {},
   "outputs": [],
   "source": [
    "ks_config = {\n",
    "    \"conv_tol\": 5e-6,\n",
    "    \"conv_tol_grad\": 0.001,\n",
    "    \"max_cycle\": 60,\n",
    "    \"damp\": 0.0,\n",
    "    \"diis_start_cycle\": 1,\n",
    "    \"level_shift\": 0.0,\n",
    "}\n",
    "ks = SkalaKS(mol, ks_config=ks_config, xc=\"skala\")"
   ]
  },
  {
   "cell_type": "markdown",
   "id": "1fda07ce",
   "metadata": {},
   "source": [
    "We print again the convergence tolerance to check that it was updated:"
   ]
  },
  {
   "cell_type": "code",
   "execution_count": 6,
   "id": "482ff510",
   "metadata": {},
   "outputs": [
    {
     "name": "stdout",
     "output_type": "stream",
     "text": [
      "5e-06\n",
      "0.001\n"
     ]
    }
   ],
   "source": [
    "print(ks.conv_tol)\n",
    "print(ks.conv_tol_grad)"
   ]
  },
  {
   "cell_type": "markdown",
   "id": "1784e00d",
   "metadata": {},
   "source": [
    "In our paper, we also use a retry-logic to modify the SCF settings and run it again in case the computation does not converge. See section D.3 in the [paper](https://arxiv.org/pdf/2506.14665) for more details."
   ]
  }
 ],
 "metadata": {
  "kernelspec": {
   "display_name": "skala",
   "language": "python",
   "name": "python3"
  },
  "language_info": {
   "codemirror_mode": {
    "name": "ipython",
    "version": 3
   },
   "file_extension": ".py",
   "mimetype": "text/x-python",
   "name": "python",
   "nbconvert_exporter": "python",
   "pygments_lexer": "ipython3",
   "version": "3.13.7"
  }
 },
 "nbformat": 4,
 "nbformat_minor": 5
}
