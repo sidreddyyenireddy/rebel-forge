{
 "cells": [
  {
   "cell_type": "markdown",
   "id": "e2bab174",
   "metadata": {},
   "source": [
    "# Using the Skala functional in PySCF\n",
    "\n",
    "The Skala functional can be used in PySCF by creating a new Kohn-Sham calculator based on the `SkalaKS` constructor.\n",
    "This allows to perform self-consistent field calculations with most of the features available in PySCF, such as density fitting and Newton's method."
   ]
  },
  {
   "cell_type": "code",
   "execution_count": null,
   "id": "c9793afd",
   "metadata": {},
   "outputs": [],
   "source": [
    "from pyscf import gto\n",
    "\n",
    "from skala.pyscf import SkalaKS"
   ]
  },
  {
   "cell_type": "markdown",
   "id": "eb396e66",
   "metadata": {},
   "source": [
    "The Kohn-Sham calculator for the Skala functional is created from a regular PySCF molecule object.\n",
    "By specifying the `xc` parameter as `\"skala\"`, the Skala functional is automatically loaded and used for the calculations."
   ]
  },
  {
   "cell_type": "code",
   "execution_count": null,
   "id": "e6d1a0a0",
   "metadata": {},
   "outputs": [],
   "source": [
    "mol = gto.M(\n",
    "    atom=\"\"\"H 0 0 0; H 0 0 1.4\"\"\",\n",
    "    basis=\"def2-tzvp\",\n",
    ")\n",
    "ks = SkalaKS(mol, xc=\"skala\")\n",
    "ks.kernel()\n",
    "\n",
    "print(ks.dump_scf_summary())"
   ]
  },
  {
   "cell_type": "markdown",
   "id": "10a6d0ee",
   "metadata": {},
   "source": [
    "Note that using the Skala functional will automatically enable the D3 dispersion correction, which is a part of the Skala functional.\n",
    "To disable the D3 correction, you can pass the ``with_dftd3`` parameter as `False` when creating the Kohn-Sham calculator.\n",
    "\n",
    "The Skala functional can be used with density fitting by calling the `density_fit()` method on the Kohn-Sham calculator or by setting the ``with_density_fit`` parameter to `True` when creating the calculator.\n",
    "This will set up the necessary integrals and approximations for efficient calculations."
   ]
  },
  {
   "cell_type": "code",
   "execution_count": null,
   "id": "99bf01dc",
   "metadata": {},
   "outputs": [],
   "source": [
    "mol = gto.M(\n",
    "    atom=\"\"\"H 0 0 0; H 0 0 1.4\"\"\",\n",
    "    basis=\"def2-tzvp\",\n",
    ")\n",
    "ks = SkalaKS(mol, xc=\"skala\", with_density_fit=True)\n",
    "ks.kernel()\n",
    "\n",
    "print(ks.dump_scf_summary())"
   ]
  },
  {
   "cell_type": "markdown",
   "id": "eaeaac3b",
   "metadata": {},
   "source": [
    "For challenging to converge systems, the Newton's method can be used by calling the `newton()` method on the Kohn-Sham calculator.\n",
    "Note, that you need to call `density_fit()` before using Newton's method, to apply the density fitting to the Kohn-Sham calculator.\n",
    "The calculator will automatically use the density fitting integrals for the Newton's method if the `with_density_fit` and `with_newton` parameters are set to `True`."
   ]
  },
  {
   "cell_type": "code",
   "execution_count": null,
   "id": "a58a7a8a",
   "metadata": {},
   "outputs": [],
   "source": [
    "mol = gto.M(\n",
    "    atom=\"\"\"H 0 0 0; H 0 0 1.4\"\"\",\n",
    "    basis=\"def2-tzvp\",\n",
    ")\n",
    "ks = SkalaKS(mol, xc=\"skala\", with_density_fit=True, with_newton=True)\n",
    "ks.kernel()\n",
    "\n",
    "print(ks.dump_scf_summary())"
   ]
  }
 ],
 "metadata": {
  "kernelspec": {
   "display_name": "skala",
   "language": "python",
   "name": "python3"
  },
  "language_info": {
   "codemirror_mode": {
    "name": "ipython",
    "version": 3
   },
   "file_extension": ".py",
   "mimetype": "text/x-python",
   "name": "python",
   "nbconvert_exporter": "python",
   "pygments_lexer": "ipython3",
   "version": "3.13.5"
  }
 },
 "nbformat": 4,
 "nbformat_minor": 5
}
